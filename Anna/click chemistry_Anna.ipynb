{
 "cells": [
  {
   "cell_type": "markdown",
   "metadata": {},
   "source": [
    "# Click Chemistry"
   ]
  },
  {
   "cell_type": "markdown",
   "metadata": {},
   "source": [
    "## oligonucleotide"
   ]
  },
  {
   "cell_type": "code",
   "execution_count": 1,
   "metadata": {
    "collapsed": false,
    "scrolled": true
   },
   "outputs": [
    {
     "data": {
      "text/html": [
       "\n",
       "        <iframe\n",
       "            width=\"900\"\n",
       "            height=\"800\"\n",
       "            src=\"P1e_Cy3_DS_Az 060818 (IDT)\"\n",
       "            frameborder=\"0\"\n",
       "            allowfullscreen\n",
       "        ></iframe>\n",
       "        "
      ],
      "text/plain": [
       "<IPython.lib.display.IFrame at 0x45819b0>"
      ]
     },
     "execution_count": 1,
     "metadata": {},
     "output_type": "execute_result"
    }
   ],
   "source": [
    "#Import the pdf IDT order\n",
    "\n",
    "from IPython.display import IFrame\n",
    "IFrame(\"P1e_Cy3_DS_Az 060818 (IDT)\", width=900, height=800)"
   ]
  },
  {
   "cell_type": "markdown",
   "metadata": {},
   "source": [
    "## checking the oligo concentration - first averaging A260 and Adye takes"
   ]
  },
  {
   "cell_type": "code",
   "execution_count": 11,
   "metadata": {
    "collapsed": false
   },
   "outputs": [
    {
     "name": "stdout",
     "output_type": "stream",
     "text": [
      "The average of A260 takes is= 1.34\n"
     ]
    }
   ],
   "source": [
    "def Average(A260): \n",
    "    return sum(A260) / len(A260) \n",
    "\n",
    "A260 = [1.425,1.296,1.303] \n",
    "A260av = Average(A260) \n",
    "\n",
    "print \"The average of A260 takes is=\" ,round (A260av,2)\n"
   ]
  },
  {
   "cell_type": "code",
   "execution_count": 12,
   "metadata": {
    "collapsed": false
   },
   "outputs": [
    {
     "name": "stdout",
     "output_type": "stream",
     "text": [
      "The average of Adye (λmax) takes is= 1.41\n"
     ]
    }
   ],
   "source": [
    "def Average(Adye): \n",
    "    return sum(Adye) / len(Adye) \n",
    "\n",
    "Adye = [1.394,1.421,1.418] \n",
    "Adyeav = Average(Adye) \n",
    "\n",
    "print \"The average of Adye (λmax) takes is=\" , round(Adyeav,2)"
   ]
  },
  {
   "cell_type": "markdown",
   "metadata": {},
   "source": [
    "# oligo concentration - no dilution factor"
   ]
  },
  {
   "cell_type": "code",
   "execution_count": 13,
   "metadata": {
    "collapsed": false,
    "scrolled": true
   },
   "outputs": [
    {
     "name": "stdout",
     "output_type": "stream",
     "text": [
      "The concentration of the oligo is=  476.7 μg/ml\n",
      "The concentration of the oligo is=  98.05 μM\n"
     ]
    }
   ],
   "source": [
    "CFdye=0.04\n",
    "CFDNA=37.1\n",
    "PL=0.1\n",
    "MW=4861.6\n",
    "oligcon= (A260av-(Adyeav*CFdye))*CFDNA/PL   # this is for non diluted oligo\n",
    "\n",
    "#DF=\n",
    "#oligconc=(A260av-(Adyeav*CFdye))*CFDNA*DF/PL    # for diluted oligo, multiply by the dilution factor\n",
    "\n",
    "\n",
    "print 'The concentration of the oligo is= ' , round (oligcon,2) , 'μg/ml'\n",
    "print 'The concentration of the oligo is= ' , round ((oligcon*(1000))/MW,2) , 'μM'"
   ]
  },
  {
   "cell_type": "markdown",
   "metadata": {},
   "source": [
    "# oligo concentration - with dilution factor"
   ]
  },
  {
   "cell_type": "code",
   "execution_count": 34,
   "metadata": {
    "collapsed": false
   },
   "outputs": [
    {
     "name": "stdout",
     "output_type": "stream",
     "text": [
      "The concentration of the oligo is=  107.26 μg/ml\n",
      "The concentration of the oligo is=  22.06 μM\n"
     ]
    }
   ],
   "source": [
    "CFdye=0.04\n",
    "CFDNA=37.1\n",
    "PL=0.1\n",
    "MW=4861.6\n",
    "\n",
    "DF=2\n",
    "oligconc=(A260av-(Adyeav*CFdye))*CFDNA*DF/PL    # for diluted oligo, multiply by the dilution factor\n",
    "\n",
    "\n",
    "print 'The concentration of the oligo is= ' , round (oligconc,2) , 'μg/ml'\n",
    "print 'The concentration of the oligo is= ' , round ((oligconc*(1000))/MW,2) , 'μM'"
   ]
  },
  {
   "cell_type": "markdown",
   "metadata": {},
   "source": [
    "## checking the Ab concentration"
   ]
  },
  {
   "cell_type": "code",
   "execution_count": 5,
   "metadata": {
    "collapsed": false
   },
   "outputs": [
    {
     "name": "stdout",
     "output_type": "stream",
     "text": [
      "The average of A280 takes is= 0.31075\n"
     ]
    }
   ],
   "source": [
    "def Average(A280): \n",
    "    return sum(A280) / len(A280) \n",
    "\n",
    "A280 = [0.294,0.293,0.328,0.328] \n",
    "A280av = Average(A280) \n",
    "\n",
    "print \"The average of A280 takes is=\" , A280av"
   ]
  },
  {
   "cell_type": "code",
   "execution_count": 6,
   "metadata": {
    "collapsed": false
   },
   "outputs": [
    {
     "name": "stdout",
     "output_type": "stream",
     "text": [
      "The antibody concentration is = 2.27 mg/ml\n",
      "The antibody concentration is = 15.23 μΜ\n"
     ]
    }
   ],
   "source": [
    "eIgG=13.7\n",
    "EIgG=204000\n",
    "PL=0.1\n",
    "A280c1=A280av/(eIgG*PL)*10\n",
    "A280c2=(A280av/(EIgG*PL))*1000000\n",
    "\n",
    "print 'The antibody concentration is =', round (A280c1,2) ,'mg/ml'\n",
    "print 'The antibody concentration is =', round (A280c2,2) ,'μΜ'\n"
   ]
  },
  {
   "cell_type": "markdown",
   "metadata": {},
   "source": [
    "## Adding DBCO to Ab"
   ]
  },
  {
   "cell_type": "code",
   "execution_count": 8,
   "metadata": {
    "collapsed": false
   },
   "outputs": [
    {
     "name": "stdout",
     "output_type": "stream",
     "text": [
      "Taking out 75 μl gives us 1.14 nmoles\n"
     ]
    }
   ],
   "source": [
    "#quantity of the Ab we are going to use\n",
    "\n",
    "qAb=75 #in μl\n",
    "\n",
    "ab_nmol=qAb*A280c2*0.001\n",
    "\n",
    "print 'Taking out', qAb ,'μl' , 'gives us', round (ab_nmol,2) , 'nmoles'"
   ]
  },
  {
   "cell_type": "code",
   "execution_count": 9,
   "metadata": {
    "collapsed": false
   },
   "outputs": [
    {
     "name": "stdout",
     "output_type": "stream",
     "text": [
      "so we need 11.42 μl of DBCO to 75 μl of antibody\n"
     ]
    }
   ],
   "source": [
    "#we want 10fold molar excess DBCO to Ab\n",
    "#DBCO working concentration is 1mM in total 150μl volume\n",
    "#V=n/C\n",
    "\n",
    "print 'so we need', round (ab_nmol*10,2) , 'μl of DBCO to' , qAb, 'μl of antibody'\n"
   ]
  },
  {
   "cell_type": "markdown",
   "metadata": {},
   "source": [
    "### Incubate at RT for ~45min \n"
   ]
  },
  {
   "cell_type": "markdown",
   "metadata": {},
   "source": [
    "# Stop the reaction with adding ~80mM of Tris HCl - 8μl of Tris-HCl\n",
    "\n",
    "## Incubate for 10min - start preparing the columns then\n",
    "\n",
    "### total volume 100μl, top up with PBS x1 DNA"
   ]
  },
  {
   "cell_type": "markdown",
   "metadata": {},
   "source": [
    "## Ab concentration and degree of incorporation of DBCO"
   ]
  },
  {
   "cell_type": "code",
   "execution_count": 14,
   "metadata": {
    "collapsed": false
   },
   "outputs": [
    {
     "name": "stdout",
     "output_type": "stream",
     "text": [
      "The average of ADBCO280 takes is= 0.23675\n"
     ]
    }
   ],
   "source": [
    "def Average(A280DBCO): \n",
    "    return sum(A280DBCO) / len(A280DBCO) \n",
    "\n",
    "A280DBCO = [0.228,0.236,0.243,0.240] \n",
    "A280DBCOav = Average(A280DBCO) \n",
    "\n",
    "print \"The average of ADBCO280 takes is=\" , A280DBCOav"
   ]
  },
  {
   "cell_type": "code",
   "execution_count": 15,
   "metadata": {
    "collapsed": false
   },
   "outputs": [
    {
     "name": "stdout",
     "output_type": "stream",
     "text": [
      "The average of A309 takes is= 0.06575\n"
     ]
    }
   ],
   "source": [
    "def Average(A309): \n",
    "    return sum(A309) / len(A309) \n",
    "\n",
    "A309 = [0.065,0.065,0.066,0.067] \n",
    "A309av = Average(A309) \n",
    "\n",
    "print \"The average of A309 takes is=\" , A309av"
   ]
  },
  {
   "cell_type": "code",
   "execution_count": 16,
   "metadata": {
    "collapsed": false
   },
   "outputs": [
    {
     "name": "stdout",
     "output_type": "stream",
     "text": [
      "The corrected absorbance at A280c is 0.165\n"
     ]
    }
   ],
   "source": [
    "CFDBCO=1.089\n",
    "\n",
    "A280c=A280DBCOav-(A309av*CFDBCO)\n",
    "print 'The corrected absorbance at A280c is', round(A280c,3)"
   ]
  },
  {
   "cell_type": "code",
   "execution_count": 17,
   "metadata": {
    "collapsed": false
   },
   "outputs": [
    {
     "name": "stdout",
     "output_type": "stream",
     "text": [
      "The antibody concentration is 8.1 μM\n",
      "The DBCO concentration is 54.79 μM\n",
      "Their degree of labelling is 6.77\n"
     ]
    }
   ],
   "source": [
    "#Calculating the Ab and DBCO concentrations \n",
    "\n",
    "Edbco=12000\n",
    "\n",
    "Cab=(A280c/(EIgG*PL))*1000000\n",
    "\n",
    "print 'The antibody concentration is', round (Cab,2), 'μM'\n",
    "\n",
    "Cdbco=A309av/(Edbco*PL)*1000000\n",
    "\n",
    "print 'The DBCO concentration is', round (Cdbco,2),'μM'\n",
    "\n",
    "Degree=Cdbco/Cab\n",
    "\n",
    "print 'Their degree of labelling is', round (Degree,2)"
   ]
  },
  {
   "cell_type": "markdown",
   "metadata": {},
   "source": [
    "## Adding azide modified DNA oligo to the purified Ab_DBCO\n"
   ]
  },
  {
   "cell_type": "code",
   "execution_count": 18,
   "metadata": {
    "collapsed": false
   },
   "outputs": [
    {
     "name": "stdout",
     "output_type": "stream",
     "text": [
      "We have around 0.73 nmoles of Ab\n"
     ]
    }
   ],
   "source": [
    "purvol=90  #in μl #rough estimate by how much is in the pipette\n",
    "#n=C*V\n",
    "\n",
    "Abnmoles=purvol*Cab*0.001  # divide by 1e6 μl and nultiply by 1e3 nM = 1e-3\n",
    "\n",
    "print 'We have around', round (Abnmoles,2), 'nmoles of Ab' "
   ]
  },
  {
   "cell_type": "code",
   "execution_count": 38,
   "metadata": {
    "collapsed": false
   },
   "outputs": [
    {
     "name": "stdout",
     "output_type": "stream",
     "text": [
      "The oligo concentration is 98.05 μM\n",
      "We need to add 74.306 μl of oligo to 90 μl of Ab\n"
     ]
    },
    {
     "data": {
      "text/plain": [
       "0.07445181030086691"
      ]
     },
     "execution_count": 38,
     "metadata": {},
     "output_type": "execute_result"
    }
   ],
   "source": [
    "#typically we aim for either 10x or 15x molar excess oligo to Ab\n",
    "\n",
    "print 'The oligo concentration is',round ((oligcon*1000)/MW,2) , 'μM'\n",
    "\n",
    "uMoligo=(oligcon*1000)/MW\n",
    "\n",
    "#for 10fold\n",
    "oligovol=(10*Abnmoles/uMoligo)*1000\n",
    "\n",
    "\n",
    "\n",
    "print 'We need to add', round (oligovol,3), 'μl of oligo to', purvol,'μl of Ab' \n",
    "\n",
    "oligovol\n",
    "\n",
    "7.3/98.05\n"
   ]
  },
  {
   "cell_type": "markdown",
   "metadata": {
    "collapsed": true
   },
   "source": [
    "# Incubate at 4oC overnight"
   ]
  },
  {
   "cell_type": "markdown",
   "metadata": {},
   "source": [
    "### Remove unconjugated DNA with the spin column\n",
    "\n",
    "### Add 50-75μl of PBS\n",
    "\n",
    "## Estimate the degree of labelling"
   ]
  },
  {
   "cell_type": "markdown",
   "metadata": {},
   "source": [
    "# Measurement of the final conjugation"
   ]
  },
  {
   "cell_type": "code",
   "execution_count": null,
   "metadata": {
    "collapsed": true
   },
   "outputs": [],
   "source": []
  }
 ],
 "metadata": {
  "anaconda-cloud": {},
  "kernelspec": {
   "display_name": "Python [default]",
   "language": "python",
   "name": "python2"
  },
  "language_info": {
   "codemirror_mode": {
    "name": "ipython",
    "version": 2
   },
   "file_extension": ".py",
   "mimetype": "text/x-python",
   "name": "python",
   "nbconvert_exporter": "python",
   "pygments_lexer": "ipython2",
   "version": "2.7.12"
  }
 },
 "nbformat": 4,
 "nbformat_minor": 1
}
